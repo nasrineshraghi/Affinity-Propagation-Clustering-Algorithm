{
 "cells": [
  {
   "cell_type": "code",
   "execution_count": 31,
   "metadata": {},
   "outputs": [],
   "source": [
    "from sklearn.cluster import AffinityPropagation\n",
    "import pandas as pd\n",
    "import matplotlib.pyplot as plt\n",
    "from itertools import cycle\n",
    "%matplotlib inline"
   ]
  },
  {
   "cell_type": "code",
   "execution_count": 32,
   "metadata": {},
   "outputs": [],
   "source": [
    "dc = pd.read_csv('event.csv')\n"
   ]
  },
  {
   "cell_type": "code",
   "execution_count": 33,
   "metadata": {},
   "outputs": [],
   "source": [
    "df = dc.loc[(dc.Date == '4/30/2019') & (dc.Time >= '10:00:00') & (dc.Time <= '16:00:00')]"
   ]
  },
  {
   "cell_type": "code",
   "execution_count": 34,
   "metadata": {},
   "outputs": [
    {
     "data": {
      "text/html": [
       "<div>\n",
       "<style scoped>\n",
       "    .dataframe tbody tr th:only-of-type {\n",
       "        vertical-align: middle;\n",
       "    }\n",
       "\n",
       "    .dataframe tbody tr th {\n",
       "        vertical-align: top;\n",
       "    }\n",
       "\n",
       "    .dataframe thead th {\n",
       "        text-align: right;\n",
       "    }\n",
       "</style>\n",
       "<table border=\"1\" class=\"dataframe\">\n",
       "  <thead>\n",
       "    <tr style=\"text-align: right;\">\n",
       "      <th></th>\n",
       "      <th>Date</th>\n",
       "      <th>Time</th>\n",
       "      <th>Count</th>\n",
       "      <th>Status</th>\n",
       "      <th>Sensor</th>\n",
       "      <th>Type</th>\n",
       "      <th>Position</th>\n",
       "      <th>Location</th>\n",
       "      <th>Location Code</th>\n",
       "    </tr>\n",
       "  </thead>\n",
       "  <tbody>\n",
       "    <tr>\n",
       "      <td>91</td>\n",
       "      <td>4/30/2019</td>\n",
       "      <td>10:03:18</td>\n",
       "      <td>1</td>\n",
       "      <td>0</td>\n",
       "      <td>UP</td>\n",
       "      <td>Counter A</td>\n",
       "      <td>4</td>\n",
       "      <td>H2-L3</td>\n",
       "      <td>H2-L3</td>\n",
       "    </tr>\n",
       "    <tr>\n",
       "      <td>92</td>\n",
       "      <td>4/30/2019</td>\n",
       "      <td>10:07:18</td>\n",
       "      <td>1</td>\n",
       "      <td>0</td>\n",
       "      <td>UP</td>\n",
       "      <td>Counter A</td>\n",
       "      <td>4</td>\n",
       "      <td>H2-L3</td>\n",
       "      <td>H2-L3</td>\n",
       "    </tr>\n",
       "    <tr>\n",
       "      <td>93</td>\n",
       "      <td>4/30/2019</td>\n",
       "      <td>10:12:18</td>\n",
       "      <td>3</td>\n",
       "      <td>0</td>\n",
       "      <td>UP</td>\n",
       "      <td>Counter A</td>\n",
       "      <td>4</td>\n",
       "      <td>H2-L3</td>\n",
       "      <td>H2-L3</td>\n",
       "    </tr>\n",
       "    <tr>\n",
       "      <td>94</td>\n",
       "      <td>4/30/2019</td>\n",
       "      <td>10:21:18</td>\n",
       "      <td>1</td>\n",
       "      <td>0</td>\n",
       "      <td>UP</td>\n",
       "      <td>Counter A</td>\n",
       "      <td>4</td>\n",
       "      <td>H2-L3</td>\n",
       "      <td>H2-L3</td>\n",
       "    </tr>\n",
       "    <tr>\n",
       "      <td>95</td>\n",
       "      <td>4/30/2019</td>\n",
       "      <td>10:32:18</td>\n",
       "      <td>1</td>\n",
       "      <td>0</td>\n",
       "      <td>UP</td>\n",
       "      <td>Counter A</td>\n",
       "      <td>4</td>\n",
       "      <td>H2-L3</td>\n",
       "      <td>H2-L3</td>\n",
       "    </tr>\n",
       "    <tr>\n",
       "      <td>...</td>\n",
       "      <td>...</td>\n",
       "      <td>...</td>\n",
       "      <td>...</td>\n",
       "      <td>...</td>\n",
       "      <td>...</td>\n",
       "      <td>...</td>\n",
       "      <td>...</td>\n",
       "      <td>...</td>\n",
       "      <td>...</td>\n",
       "    </tr>\n",
       "    <tr>\n",
       "      <td>23443</td>\n",
       "      <td>4/30/2019</td>\n",
       "      <td>14:53:53</td>\n",
       "      <td>3</td>\n",
       "      <td>0</td>\n",
       "      <td>DOWN</td>\n",
       "      <td>Counter B</td>\n",
       "      <td>5</td>\n",
       "      <td>H1-L5</td>\n",
       "      <td>TOP5N</td>\n",
       "    </tr>\n",
       "    <tr>\n",
       "      <td>23444</td>\n",
       "      <td>4/30/2019</td>\n",
       "      <td>15:07:53</td>\n",
       "      <td>1</td>\n",
       "      <td>0</td>\n",
       "      <td>DOWN</td>\n",
       "      <td>Counter B</td>\n",
       "      <td>5</td>\n",
       "      <td>H1-L5</td>\n",
       "      <td>TOP5N</td>\n",
       "    </tr>\n",
       "    <tr>\n",
       "      <td>23445</td>\n",
       "      <td>4/30/2019</td>\n",
       "      <td>15:10:53</td>\n",
       "      <td>1</td>\n",
       "      <td>0</td>\n",
       "      <td>DOWN</td>\n",
       "      <td>Counter B</td>\n",
       "      <td>5</td>\n",
       "      <td>H1-L5</td>\n",
       "      <td>TOP5N</td>\n",
       "    </tr>\n",
       "    <tr>\n",
       "      <td>23446</td>\n",
       "      <td>4/30/2019</td>\n",
       "      <td>15:25:53</td>\n",
       "      <td>1</td>\n",
       "      <td>0</td>\n",
       "      <td>DOWN</td>\n",
       "      <td>Counter B</td>\n",
       "      <td>5</td>\n",
       "      <td>H1-L5</td>\n",
       "      <td>TOP5N</td>\n",
       "    </tr>\n",
       "    <tr>\n",
       "      <td>23447</td>\n",
       "      <td>4/30/2019</td>\n",
       "      <td>15:53:53</td>\n",
       "      <td>1</td>\n",
       "      <td>0</td>\n",
       "      <td>DOWN</td>\n",
       "      <td>Counter B</td>\n",
       "      <td>5</td>\n",
       "      <td>H1-L5</td>\n",
       "      <td>TOP5N</td>\n",
       "    </tr>\n",
       "  </tbody>\n",
       "</table>\n",
       "<p>980 rows × 9 columns</p>\n",
       "</div>"
      ],
      "text/plain": [
       "            Date      Time  Count  Status Sensor       Type  Position  \\\n",
       "91     4/30/2019  10:03:18      1       0     UP  Counter A         4   \n",
       "92     4/30/2019  10:07:18      1       0     UP  Counter A         4   \n",
       "93     4/30/2019  10:12:18      3       0     UP  Counter A         4   \n",
       "94     4/30/2019  10:21:18      1       0     UP  Counter A         4   \n",
       "95     4/30/2019  10:32:18      1       0     UP  Counter A         4   \n",
       "...          ...       ...    ...     ...    ...        ...       ...   \n",
       "23443  4/30/2019  14:53:53      3       0   DOWN  Counter B         5   \n",
       "23444  4/30/2019  15:07:53      1       0   DOWN  Counter B         5   \n",
       "23445  4/30/2019  15:10:53      1       0   DOWN  Counter B         5   \n",
       "23446  4/30/2019  15:25:53      1       0   DOWN  Counter B         5   \n",
       "23447  4/30/2019  15:53:53      1       0   DOWN  Counter B         5   \n",
       "\n",
       "      Location Location Code  \n",
       "91       H2-L3         H2-L3  \n",
       "92       H2-L3         H2-L3  \n",
       "93       H2-L3         H2-L3  \n",
       "94       H2-L3         H2-L3  \n",
       "95       H2-L3         H2-L3  \n",
       "...        ...           ...  \n",
       "23443    H1-L5         TOP5N  \n",
       "23444    H1-L5         TOP5N  \n",
       "23445    H1-L5         TOP5N  \n",
       "23446    H1-L5         TOP5N  \n",
       "23447    H1-L5         TOP5N  \n",
       "\n",
       "[980 rows x 9 columns]"
      ]
     },
     "execution_count": 34,
     "metadata": {},
     "output_type": "execute_result"
    }
   ],
   "source": [
    "df"
   ]
  },
  {
   "cell_type": "code",
   "execution_count": 35,
   "metadata": {},
   "outputs": [],
   "source": [
    "X= df.loc[df.index,['Position','Count']].to_numpy()\n"
   ]
  },
  {
   "cell_type": "code",
   "execution_count": 26,
   "metadata": {},
   "outputs": [
    {
     "data": {
      "text/plain": [
       "array([[4, 1],\n",
       "       [4, 1],\n",
       "       [4, 3],\n",
       "       ...,\n",
       "       [5, 1],\n",
       "       [5, 1],\n",
       "       [5, 1]], dtype=int64)"
      ]
     },
     "execution_count": 26,
     "metadata": {},
     "output_type": "execute_result"
    }
   ],
   "source": [
    "X"
   ]
  },
  {
   "cell_type": "code",
   "execution_count": 29,
   "metadata": {},
   "outputs": [
    {
     "name": "stderr",
     "output_type": "stream",
     "text": [
      "C:\\Users\\neshragh\\AppData\\Local\\Programs\\ArcGIS\\Pro\\bin\\Python\\envs\\arcgispro-py3\\lib\\site-packages\\sklearn\\cluster\\_affinity_propagation.py:152: FutureWarning: 'random_state' has been introduced in 0.23. It will be set to None starting from 0.25 which means that results will differ at every function call. Set 'random_state' to None to silence this warning, or to 0 to keep the behavior of versions <0.23.\n",
      "  FutureWarning)\n"
     ]
    }
   ],
   "source": [
    "af = AffinityPropagation(preference=-50, damping=.888, max_iter= 100 ).fit(X)\n",
    "cluster_centers_indices = af.cluster_centers_indices_\n",
    "labels = af.labels_\n",
    "\n",
    "n_clusters_ = len(cluster_centers_indices)"
   ]
  },
  {
   "cell_type": "code",
   "execution_count": 30,
   "metadata": {},
   "outputs": [],
   "source": [
    "plt.close('all')\n",
    "plt.figure(1)\n",
    "plt.clf()\n",
    "\n",
    "colors = cycle('bgrcmykbgrcmykbgrcmykbgrcmyk')\n",
    "for k, col in zip(range(n_clusters_), colors):\n",
    "    class_members = labels == k\n",
    "    cluster_center = X[cluster_centers_indices[k]]\n",
    "    plt.plot(X[class_members, 0], X[class_members, 1], col + '.')\n",
    "    plt.plot(cluster_center[0], cluster_center[1], 'o', markerfacecolor=col,\n",
    "             markeredgecolor='k', markersize=14)\n",
    "    for x in X[class_members]:\n",
    "        plt.plot([cluster_center[0], x[0]], [cluster_center[1], x[1]], col)\n",
    "\n",
    "plt.title('Estimated number of clusters: %d' % n_clusters_)\n",
    "plt.show()"
   ]
  },
  {
   "cell_type": "code",
   "execution_count": null,
   "metadata": {},
   "outputs": [],
   "source": []
  }
 ],
 "metadata": {
  "kernelspec": {
   "display_name": "Python 3",
   "language": "python",
   "name": "python3"
  },
  "language_info": {
   "codemirror_mode": {
    "name": "ipython",
    "version": 3
   },
   "file_extension": ".py",
   "mimetype": "text/x-python",
   "name": "python",
   "nbconvert_exporter": "python",
   "pygments_lexer": "ipython3",
   "version": "3.6.9"
  },
  "latex_envs": {
   "LaTeX_envs_menu_present": true,
   "autoclose": false,
   "autocomplete": true,
   "bibliofile": "biblio.bib",
   "cite_by": "apalike",
   "current_citInitial": 1,
   "eqLabelWithNumbers": true,
   "eqNumInitial": 1,
   "hotkeys": {
    "equation": "Ctrl-E",
    "itemize": "Ctrl-I"
   },
   "labels_anchors": false,
   "latex_user_defs": false,
   "report_style_numbering": false,
   "user_envs_cfg": false
  },
  "toc": {
   "base_numbering": 1,
   "nav_menu": {},
   "number_sections": true,
   "sideBar": true,
   "skip_h1_title": false,
   "title_cell": "Table of Contents",
   "title_sidebar": "Contents",
   "toc_cell": false,
   "toc_position": {},
   "toc_section_display": true,
   "toc_window_display": false
  },
  "varInspector": {
   "cols": {
    "lenName": 16,
    "lenType": 16,
    "lenVar": 40
   },
   "kernels_config": {
    "python": {
     "delete_cmd_postfix": "",
     "delete_cmd_prefix": "del ",
     "library": "var_list.py",
     "varRefreshCmd": "print(var_dic_list())"
    },
    "r": {
     "delete_cmd_postfix": ") ",
     "delete_cmd_prefix": "rm(",
     "library": "var_list.r",
     "varRefreshCmd": "cat(var_dic_list()) "
    }
   },
   "types_to_exclude": [
    "module",
    "function",
    "builtin_function_or_method",
    "instance",
    "_Feature"
   ],
   "window_display": true
  }
 },
 "nbformat": 4,
 "nbformat_minor": 2
}
