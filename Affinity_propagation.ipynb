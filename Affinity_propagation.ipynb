{
 "cells": [
  {
   "cell_type": "code",
   "execution_count": 3,
   "metadata": {},
   "outputs": [],
   "source": [
    "# -*- coding: utf-8 -*-\n",
    "\"\"\"\n",
    "Created on Wed Feb 11 15:43:34 2020\n",
    "Time_Series dataset\n",
    "\n",
    "@author: neshragh\n",
    "\"\"\"\n",
    "\n",
    "from sklearn.cluster import AffinityPropagation\n",
    "#from sklearn import metrics\n",
    "import pandas as pd\n",
    "\n",
    "\n",
    "##################################################################\n",
    "\n"
   ]
  },
  {
   "cell_type": "code",
   "execution_count": 4,
   "metadata": {},
   "outputs": [],
   "source": [
    "\n",
    "##open a dataset\n",
    "df = pd.read_csv('During1week.csv')\n",
    "\n",
    "#dc = df.loc[(df.Date == '6/21/2019') & (df.Time >= '18:00:00') & (df.Time <= '19:00:00')]\n",
    "#fix until this date\n",
    "# =============================================================================\n",
    "# dc=df_data.loc[(df_data.Sensor =='UP')]\n",
    "# print(dc)\n",
    "# =============================================================================\n",
    "#Filter dataset\n",
    "#data = df_data[['Date', 'Time','Count', 'Status', 'Sensor', 'Type', 'Position','Location', 'Location Code']] .values\n",
    "#df_filtered = data[(df_data.Time >='11') & (df_data.Time <='11:30') ]\n",
    "##print(len(df_filtered))\n",
    "#print(df_filtered)\n",
    "\n",
    "#Split Apply Combine\n",
    "#g = df_data.groupby('Time')\n",
    "#for Time, Time_df_data in g :\n",
    "#    print(Time_df_data)\n",
    "#    print(Time)\n",
    "#g.get_group('Time' == '9:59:51' )\n",
    "\n",
    "# #############################################################################\n"
   ]
  },
  {
   "cell_type": "code",
   "execution_count": 6,
   "metadata": {},
   "outputs": [
    {
     "name": "stderr",
     "output_type": "stream",
     "text": [
      "C:\\Users\\neshragh\\AppData\\Local\\Programs\\ArcGIS\\Pro\\bin\\Python\\envs\\arcgispro-py3\\lib\\site-packages\\sklearn\\cluster\\_affinity_propagation.py:152: FutureWarning: 'random_state' has been introduced in 0.23. It will be set to None starting from 0.25 which means that results will differ at every function call. Set 'random_state' to None to silence this warning, or to 0 to keep the behavior of versions <0.23.\n",
      "  FutureWarning)\n"
     ]
    }
   ],
   "source": [
    "# #############################################################################\n",
    "\n",
    "#Choose data for algorithm\n",
    "X= df.loc[df.index<50000,['Position','Count']].to_numpy()\n",
    "#X= df.loc[df.index<90000,['Position','Count']].to_numpy()\n",
    "\n",
    "#labels_true = dc.loc[df.index<90000,'Time'].to_numpy()\n",
    "\n",
    "\n",
    "# #############################################################################\n",
    "# Compute Affinity Propagation\n",
    "af = AffinityPropagation(preference=-50, damping=.84 , max_iter= 100 ).fit(X)\n",
    "cluster_centers_indices = af.cluster_centers_indices_\n",
    "labels = af.labels_\n",
    "\n",
    "n_clusters_ = len(cluster_centers_indices)\n",
    "\n",
    "#print('Estimated number of clusters: %d' % n_clusters_)\n",
    "#print(\"Homogeneity: %0.3f\" % metrics.homogeneity_score(labels_true, labels))\n",
    "#print(\"Completeness: %0.3f\" % metrics.completeness_score(labels_true, labels))\n",
    "#print(\"V-measure: %0.3f\" % metrics.v_measure_score(labels_true, labels))\n",
    "#print(\"Adjusted Rand Index: %0.3f\"\n",
    "#      % metrics.adjusted_rand_score(labels_true, labels))\n",
    "#print(\"Adjusted Mutual Information: %0.3f\"\n",
    "#      % metrics.adjusted_mutual_info_score(labels_true, labels))\n",
    "\n",
    "\n"
   ]
  },
  {
   "cell_type": "code",
   "execution_count": 7,
   "metadata": {},
   "outputs": [
    {
     "data": {
      "image/png": "[encoded data removed]",
      "text/plain": [
       "<Figure size 432x288 with 1 Axes>"
      ]
     },
     "metadata": {
      "needs_background": "light"
     },
     "output_type": "display_data"
    }
   ],
   "source": [
    "\n",
    "# #############################################################################\n",
    "# Plot result\n",
    "import matplotlib.pyplot as plt\n",
    "from itertools import cycle\n",
    "\n",
    "\n",
    "plt.close('all')\n",
    "plt.figure(1)\n",
    "plt.clf()\n",
    "\n",
    "colors = cycle('bgrcmykbgrcmykbgrcmykbgrcmyk')\n",
    "for k, col in zip(range(n_clusters_), colors):\n",
    "    class_members = labels == k\n",
    "    cluster_center = X[cluster_centers_indices[k]]\n",
    "   #CODE FOR POINTS OF BRANCHES \n",
    "    plt.plot(X[class_members, 0], X[class_members, 1], col + '.')\n",
    "    plt.plot(cluster_center[0], cluster_center[1], 'o', markerfacecolor=col,\n",
    "             markeredgecolor='k', markersize=18)\n",
    "\n",
    "#CODE FOR LINES OF BRANCHES    \n",
    "    for x in X[class_members]:\n",
    "        plt.plot([cluster_center[0], x[0]], [cluster_center[1], x[1]], col)\n",
    "\n",
    "plt.title('Estimated number of clusters: %d' % n_clusters_)\n",
    "\n",
    "plt.xlabel('Postions',labelpad=15)\n",
    "plt.ylabel('Number of people')\n",
    "\n",
    "frame =plt.gca()\n",
    "frame.axes.get_xaxis().set_visible(True)\n",
    "frame.axes.get_yaxis().set_visible(True)\n",
    "\n",
    "plt.ylim(-0.7,66)\n",
    "\n",
    "plt.xticks([1,2,3,4,5,6], [\"Level 2-1\", \"Level 3-2\\nCentral\", \"Level 4-3\\nNorth\",\n",
    "           \"Level4-3\\nSouth\", \"Level5-4\\nNorth\", \"Level5-4\\nSouth\"])\n",
    "#plt.xlim(1,6)\n",
    "plt.show()\n"
   ]
  },
  {
   "cell_type": "code",
   "execution_count": null,
   "metadata": {},
   "outputs": [],
   "source": []
  }
 ],
 "metadata": {
  "kernelspec": {
   "display_name": "Python 3",
   "language": "python",
   "name": "python3"
  },
  "language_info": {
   "codemirror_mode": {
    "name": "ipython",
    "version": 3
   },
   "file_extension": ".py",
   "mimetype": "text/x-python",
   "name": "python",
   "nbconvert_exporter": "python",
   "pygments_lexer": "ipython3",
   "version": "3.6.9"
  }
 },
 "nbformat": 4,
 "nbformat_minor": 2
}
